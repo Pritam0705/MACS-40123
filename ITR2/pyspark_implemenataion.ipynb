{
 "cells": [
  {
   "cell_type": "code",
   "execution_count": 2,
   "metadata": {},
   "outputs": [],
   "source": [
    "# Import required libraries\n",
    "from pyspark.sql import SparkSession\n",
    "from pyspark.ml.feature import Tokenizer, StopWordsRemover, CountVectorizer, IDF, PCA\n",
    "from pyspark.ml.clustering import KMeans, LDA\n",
    "from pyspark.ml import Pipeline\n",
    "from pyspark.sql.functions import lower, regexp_replace, col"
   ]
  },
  {
   "cell_type": "code",
   "execution_count": 3,
   "metadata": {},
   "outputs": [],
   "source": [
    "spark = SparkSession \\\n",
    "        .builder \\\n",
    "        .appName(\"MisinfromationClustering\") \\\n",
    "        .getOrCreate()"
   ]
  },
  {
   "cell_type": "code",
   "execution_count": 4,
   "metadata": {},
   "outputs": [
    {
     "name": "stdout",
     "output_type": "stream",
     "text": [
      "+----------+--------------------+--------------------+--------------------+--------------------+-------------------+--------------------+--------------------+--------------------+--------------------+------------------+--------------------+----+-----+\n",
      "|  Category|                Link|             Heading|         Sub_heading|              Author|               Date|               Claim|          Fact_check|       Claim_summary|          Claimed_by|Fact_check_summary|               Links|Year|Month|\n",
      "+----------+--------------------+--------------------+--------------------+--------------------+-------------------+--------------------+--------------------+--------------------+--------------------+------------------+--------------------+----+-----+\n",
      "|fact check|https://www.booml...|bangladeshi actor...|according to loca...|    Archis Chowdhury|2024-10-10 14:16:00|video shows an am...|boom identified t...|video shows an am...|  social media users|             false|['https://archive...|2024|   10|\n",
      "|fast check|https://www.booml...|morphed photo fal...|boom found that t...|    Yangchula Bhutia|2024-10-09 13:33:00|an image showing ...|boom found that t...|a viral image cla...|            facebook|             false|                NULL|2024|   10|\n",
      "|fact check|https://www.booml...|video of man kill...|boom found that t...|        Tausif Akbar|2024-10-08 18:36:00|video shows a hin...|the incident happ...|video shows body ...|facebook users, x...|             false|                  []|2024|   10|\n",
      "|fact check|https://www.booml...|video from iraqi ...|boom found that t...|Nivedita Niranjan...|2024-10-08 17:40:00|tv actress in leb...|boom found that t...|lebanese tv actre...|x and facebook users|             false|['https://youtu.b...|2024|   10|\n",
      "|fact check|https://www.booml...|viral claims of i...|the icj ruling sp...|    Archis Chowdhury|2024-10-08 15:45:00|a video showing p...|the video is from...|video shows pales...|  social media users|             false|['https://www.fac...|2024|   10|\n",
      "+----------+--------------------+--------------------+--------------------+--------------------+-------------------+--------------------+--------------------+--------------------+--------------------+------------------+--------------------+----+-----+\n",
      "only showing top 5 rows\n",
      "\n"
     ]
    }
   ],
   "source": [
    "# Load data\n",
    "data = spark.read.csv(\"boomlive_data_cleaned.csv\", header=True, inferSchema=True)\n",
    "\n",
    "data.show(5)"
   ]
  },
  {
   "cell_type": "code",
   "execution_count": 5,
   "metadata": {},
   "outputs": [
    {
     "name": "stdout",
     "output_type": "stream",
     "text": [
      "+----------+--------------------+--------------------+--------------------+--------------------+-------------------+--------------------+--------------------+--------------------+--------------------+------------------+--------------------+----+-----+\n",
      "|  Category|                Link|             Heading|         Sub_heading|              Author|               Date|               Claim|          Fact_check|       Claim_summary|          Claimed_by|Fact_check_summary|               Links|Year|Month|\n",
      "+----------+--------------------+--------------------+--------------------+--------------------+-------------------+--------------------+--------------------+--------------------+--------------------+------------------+--------------------+----+-----+\n",
      "|fact check|https://www.booml...|bangladeshi actor...|according to loca...|    Archis Chowdhury|2024-10-10 14:16:00|video shows an am...|boom identified t...|video shows an am...|  social media users|             false|['https://archive...|2024|   10|\n",
      "|fast check|https://www.booml...|morphed photo fal...|boom found that t...|    Yangchula Bhutia|2024-10-09 13:33:00|an image showing ...|boom found that t...|a viral image cla...|            facebook|             false|                NULL|2024|   10|\n",
      "|fact check|https://www.booml...|video of man kill...|boom found that t...|        Tausif Akbar|2024-10-08 18:36:00|video shows a hin...|the incident happ...|video shows body ...|facebook users, x...|             false|                  []|2024|   10|\n",
      "|fact check|https://www.booml...|video from iraqi ...|boom found that t...|Nivedita Niranjan...|2024-10-08 17:40:00|tv actress in leb...|boom found that t...|lebanese tv actre...|x and facebook users|             false|['https://youtu.b...|2024|   10|\n",
      "|fact check|https://www.booml...|viral claims of i...|the icj ruling sp...|    Archis Chowdhury|2024-10-08 15:45:00|a video showing p...|the video is from...|video shows pales...|  social media users|             false|['https://www.fac...|2024|   10|\n",
      "+----------+--------------------+--------------------+--------------------+--------------------+-------------------+--------------------+--------------------+--------------------+--------------------+------------------+--------------------+----+-----+\n",
      "only showing top 5 rows\n",
      "\n"
     ]
    }
   ],
   "source": [
    "# Get the 2024 data\n",
    "data_2024 = data.filter(data['year'] == 2024)\n",
    "\n",
    "data_2024.show(5)"
   ]
  },
  {
   "cell_type": "markdown",
   "metadata": {},
   "source": [
    "**1. Data Preprocessing**"
   ]
  },
  {
   "cell_type": "code",
   "execution_count": 6,
   "metadata": {},
   "outputs": [
    {
     "name": "stdout",
     "output_type": "stream",
     "text": [
      "+--------------------+\n",
      "|               Claim|\n",
      "+--------------------+\n",
      "|video shows an am...|\n",
      "|an image showing ...|\n",
      "|video shows a hin...|\n",
      "|tv actress in leb...|\n",
      "|a video showing p...|\n",
      "+--------------------+\n",
      "only showing top 5 rows\n",
      "\n",
      "+---------------------------------------------------------------------------------------------------------------------------------------------------------------------------------------------------------------------------------------------------------------------------------------------------------------------------------------------------------------+---------------------------------------------------------------------------------------------------------------------------------------------------------------------------------------------------------------------------------------------------------+\n",
      "|Claim                                                                                                                                                                                                                                                                                                                                                          |filtered_words                                                                                                                                                                                                                                           |\n",
      "+---------------------------------------------------------------------------------------------------------------------------------------------------------------------------------------------------------------------------------------------------------------------------------------------------------------------------------------------------------------+---------------------------------------------------------------------------------------------------------------------------------------------------------------------------------------------------------------------------------------------------------+\n",
      "|video shows an american woman being heckled in bangladesh for not wearing a hijab                                                                                                                                                                                                                                                                              |[american, woman, heckled, bangladesh, wearing, hijab]                                                                                                                                                                                                   |\n",
      "|an image showing a beef biryani spice mix with patanjali branding is circulating online with a false claim that the indian company known for promoting traditional values is manufacturing and selling the product the image includes the words beef biryani and patanjali logos leading to social media outrage and accusations of hypocrisy against the brand|[beef, biryani, spice, mix, patanjali, branding, circulating, indian, company, known, promoting, traditional, values, manufacturing, selling, product, includes, words, beef, biryani, patanjali, logos, leading, outrage, accusations, hypocrisy, brand]|\n",
      "|video shows a hindu man killed by slitting his throat in front of everyone at the eidgah gate of kauria para in narsingdi district of bangladesh                                                                                                                                                                                                               |[hindu, man, killed, slitting, throat, front, everyone, eidgah, gate, kauria, para, narsingdi, district, bangladesh]                                                                                                                                     |\n",
      "|tv actress in lebanon slaps a maulvi for making abusive comments towards her                                                                                                                                                                                                                                                                                   |[tv, actress, lebanon, slaps, maulvi, making, abusive, comments, towards]                                                                                                                                                                                |\n",
      "|a video showing palestines foreign minister addressing the media falsely claims the international court of justice has declared israel an illegal state                                                                                                                                                                                                        |[palestines, foreign, minister, addressing, falsely, claims, international, court, justice, declared, israel, illegal, state]                                                                                                                            |\n",
      "|a viral video claims that a muslim activist in bangladesh threatened hindus giving them a sevenday ultimatum to leave the country                                                                                                                                                                                                                              |[claims, muslim, activist, bangladesh, threatened, hindus, giving, sevenday, ultimatum, leave, country]                                                                                                                                                  |\n",
      "|a video of a bike rally is circulating on social media amid the  haryana assembly elections showing people holding islamic flags                                                                                                                                                                                                                               |[bike, rally, circulating, amid, , haryana, assembly, elections, people, holding, islamic, flags]                                                                                                                                                        |\n",
      "|video shows pakistani tv anchors introducing rahul gandhi by joking about him                                                                                                                                                                                                                                                                                  |[pakistani, tv, anchors, introducing, rahul, gandhi, joking]                                                                                                                                                                                             |\n",
      "|a viral video showing a group of burqawearing women carrying the indian flag is being falsely claimed to depict palestinian women using the tricolour to flee the wartorn region of gaza the post alleges that these women are using the indian flag as a shield to avoid attacks during the ongoing israelhamas conflict                                      |[group, burqawearing, women, carrying, indian, flag, falsely, claimed, depict, palestinian, women, using, tricolour, flee, wartorn, region, gaza, post, alleges, women, using, indian, flag, shield, avoid, attacks, ongoing, israelhamas, conflict]     |\n",
      "|a cctv video shows a young boy hitting his mother with a bat after she takes away his mobile phone                                                                                                                                                                                                                                                             |[cctv, young, boy, hitting, mother, bat, takes, away, mobile, phone]                                                                                                                                                                                     |\n",
      "+---------------------------------------------------------------------------------------------------------------------------------------------------------------------------------------------------------------------------------------------------------------------------------------------------------------------------------------------------------------+---------------------------------------------------------------------------------------------------------------------------------------------------------------------------------------------------------------------------------------------------------+\n",
      "only showing top 10 rows\n",
      "\n"
     ]
    }
   ],
   "source": [
    "# Select the 'Claim' column and drop rows with NaN values\n",
    "claims = data_2024.select(\"Claim\").na.drop()\n",
    "\n",
    "claims.show(5)\n",
    "\n",
    "# Convert text to lowercase and remove punctuation\n",
    "claims = claims.withColumn(\"Claim\", lower(regexp_replace(col(\"Claim\"), \"[^a-zA-Z\\\\s]\", \"\")))\n",
    "\n",
    "# Custom stopwords specific to misinformation data\n",
    "custom_stopwords = {'claim', 'false', 'video', 'social', 'image', 'media', 'online', 'showing', 'shows', 'show', 'viral',\n",
    "                    'share', 'shared'}\n",
    "\n",
    "# Union the default Spark stop words with custom stopwords\n",
    "default_stopwords = StopWordsRemover.loadDefaultStopWords(\"english\")\n",
    "all_stopwords = list(set(default_stopwords).union(custom_stopwords))\n",
    "\n",
    "# Tokenize the claims column\n",
    "tokenizer = Tokenizer(inputCol=\"Claim\", outputCol=\"words\")\n",
    "claims_tokenized = tokenizer.transform(claims)\n",
    "\n",
    "# Remove stopwords\n",
    "remover = StopWordsRemover(inputCol=\"words\", outputCol=\"filtered_words\", stopWords=all_stopwords)\n",
    "claims_filtered = remover.transform(claims_tokenized)\n",
    "\n",
    "# Show sample output\n",
    "claims_filtered.select(\"Claim\", \"filtered_words\").show(10, truncate=False)\n"
   ]
  },
  {
   "cell_type": "markdown",
   "metadata": {},
   "source": [
    "**2. TF-IDF Vectorizer**"
   ]
  },
  {
   "cell_type": "code",
   "execution_count": 7,
   "metadata": {},
   "outputs": [],
   "source": [
    "# Vectorize words\n",
    "vectorizer = CountVectorizer(inputCol=\"filtered_words\", outputCol=\"raw_features\")\n",
    "\n",
    "# Compute TF-IDF\n",
    "idf = IDF(inputCol=\"raw_features\", outputCol=\"features\")"
   ]
  },
  {
   "cell_type": "markdown",
   "metadata": {},
   "source": [
    "**3. PCA for dimensionality Reduction**"
   ]
  },
  {
   "cell_type": "code",
   "execution_count": 8,
   "metadata": {},
   "outputs": [],
   "source": [
    "# Apply PCA to reduce dimensionality\n",
    "pca = PCA(k=346, inputCol=\"features\", outputCol=\"pca_features\")\n",
    "\n",
    "# Apply K-means clustering\n",
    "kmeans = KMeans(featuresCol=\"pca_features\", k=4, seed=42)"
   ]
  },
  {
   "cell_type": "code",
   "execution_count": 9,
   "metadata": {},
   "outputs": [],
   "source": [
    "# Build the pipeline\n",
    "pipeline = Pipeline(stages=[tokenizer, remover, vectorizer, idf, pca, kmeans])\n",
    "\n",
    "# Fit the model\n",
    "model = pipeline.fit(claims)\n",
    "\n",
    "# Transform data with clustering\n",
    "clustered_data = model.transform(claims)\n"
   ]
  },
  {
   "cell_type": "code",
   "execution_count": 10,
   "metadata": {},
   "outputs": [
    {
     "name": "stdout",
     "output_type": "stream",
     "text": [
      "+--------------------+----------+\n",
      "|               claim|prediction|\n",
      "+--------------------+----------+\n",
      "|video shows an am...|         0|\n",
      "|an image showing ...|         1|\n",
      "|video shows a hin...|         0|\n",
      "|tv actress in leb...|         1|\n",
      "|a video showing p...|         1|\n",
      "|a viral video cla...|         0|\n",
      "|a video of a bike...|         1|\n",
      "|video shows pakis...|         1|\n",
      "|a viral video sho...|         0|\n",
      "|a cctv video show...|         1|\n",
      "+--------------------+----------+\n",
      "only showing top 10 rows\n",
      "\n"
     ]
    }
   ],
   "source": [
    "# Show clustering results\n",
    "clustered_data.select(\"claim\", \"prediction\").show(10)"
   ]
  },
  {
   "cell_type": "code",
   "execution_count": 11,
   "metadata": {},
   "outputs": [
    {
     "name": "stdout",
     "output_type": "stream",
     "text": [
      "+----------+-----+\n",
      "|prediction|count|\n",
      "+----------+-----+\n",
      "|         1|  319|\n",
      "|         3|    1|\n",
      "|         2|    4|\n",
      "|         0|   92|\n",
      "+----------+-----+\n",
      "\n"
     ]
    }
   ],
   "source": [
    "clustered_data.groupBy(\"prediction\").count().show()"
   ]
  },
  {
   "cell_type": "code",
   "execution_count": 12,
   "metadata": {},
   "outputs": [
    {
     "name": "stdout",
     "output_type": "stream",
     "text": [
      "+--------------------+--------------------+--------------------+--------------------+--------------------+--------------------+----------+\n",
      "|               Claim|               words|      filtered_words|        raw_features|            features|        pca_features|prediction|\n",
      "+--------------------+--------------------+--------------------+--------------------+--------------------+--------------------+----------+\n",
      "|video shows an am...|[video, shows, an...|[american, woman,...|(2869,[31,42,166,...|(2869,[31,42,166,...|[-0.0883604921913...|         0|\n",
      "|an image showing ...|[an, image, showi...|[beef, biryani, s...|(2869,[7,25,246,3...|(2869,[7,25,246,3...|[-0.0490773087101...|         1|\n",
      "|video shows a hin...|[video, shows, a,...|[hindu, man, kill...|(2869,[14,19,42,7...|(2869,[14,19,42,7...|[-0.1213050853112...|         0|\n",
      "|tv actress in leb...|[tv, actress, in,...|[tv, actress, leb...|(2869,[165,276,55...|(2869,[165,276,55...|[-0.0388893821969...|         1|\n",
      "|a video showing p...|[a, video, showin...|[palestines, fore...|(2869,[1,8,13,91,...|(2869,[1,8,13,91,...|[0.10862577754349...|         1|\n",
      "+--------------------+--------------------+--------------------+--------------------+--------------------+--------------------+----------+\n",
      "only showing top 5 rows\n",
      "\n"
     ]
    }
   ],
   "source": [
    "clustered_data.show(5)"
   ]
  },
  {
   "cell_type": "code",
   "execution_count": 13,
   "metadata": {},
   "outputs": [
    {
     "name": "stdout",
     "output_type": "stream",
     "text": [
      "+-------------------------------------------------------------------------------------------------------------------------------------------------------------------------------------------------------------------------------------------------------------------------------------------------------------------------+----------------------------------------------------------------------------------------------------------------------------------------------------------------------------------------------------------------------------------------------------+----------+\n",
      "|claim                                                                                                                                                                                                                                                                                                                    |filtered_words                                                                                                                                                                                                                                      |prediction|\n",
      "+-------------------------------------------------------------------------------------------------------------------------------------------------------------------------------------------------------------------------------------------------------------------------------------------------------------------------+----------------------------------------------------------------------------------------------------------------------------------------------------------------------------------------------------------------------------------------------------+----------+\n",
      "|video shows an american woman being heckled in bangladesh for not wearing a hijab                                                                                                                                                                                                                                        |[american, woman, heckled, bangladesh, wearing, hijab]                                                                                                                                                                                              |0         |\n",
      "|video shows a hindu man killed by slitting his throat in front of everyone at the eidgah gate of kauria para in narsingdi district of bangladesh                                                                                                                                                                         |[hindu, man, killed, slitting, throat, front, everyone, eidgah, gate, kauria, para, narsingdi, district, bangladesh]                                                                                                                                |0         |\n",
      "|a viral video claims that a muslim activist in bangladesh threatened hindus giving them a sevenday ultimatum to leave the country                                                                                                                                                                                        |[claims, muslim, activist, bangladesh, threatened, hindus, giving, sevenday, ultimatum, leave, country]                                                                                                                                             |0         |\n",
      "|a viral video showing a group of burqawearing women carrying the indian flag is being falsely claimed to depict palestinian women using the tricolour to flee the wartorn region of gaza the post alleges that these women are using the indian flag as a shield to avoid attacks during the ongoing israelhamas conflict|[group, burqawearing, women, carrying, indian, flag, falsely, claimed, depict, palestinian, women, using, tricolour, flee, wartorn, region, gaza, post, alleges, women, using, indian, flag, shield, avoid, attacks, ongoing, israelhamas, conflict]|0         |\n",
      "|a viral video from delhis sultanpuri area falsely identifies a hindu man as muslim and alleges a communal attack                                                                                                                                                                                                         |[delhis, sultanpuri, area, falsely, identifies, hindu, man, muslim, alleges, communal, attack]                                                                                                                                                      |0         |\n",
      "+-------------------------------------------------------------------------------------------------------------------------------------------------------------------------------------------------------------------------------------------------------------------------------------------------------------------------+----------------------------------------------------------------------------------------------------------------------------------------------------------------------------------------------------------------------------------------------------+----------+\n",
      "only showing top 5 rows\n",
      "\n",
      "+---------------------------------------------------------------------------------------------------------------------------------------------------------------------------------------------------------------------------------------------------------------------------------------------------------------------------------------------------------------+---------------------------------------------------------------------------------------------------------------------------------------------------------------------------------------------------------------------------------------------------------+----------+\n",
      "|claim                                                                                                                                                                                                                                                                                                                                                          |filtered_words                                                                                                                                                                                                                                           |prediction|\n",
      "+---------------------------------------------------------------------------------------------------------------------------------------------------------------------------------------------------------------------------------------------------------------------------------------------------------------------------------------------------------------+---------------------------------------------------------------------------------------------------------------------------------------------------------------------------------------------------------------------------------------------------------+----------+\n",
      "|an image showing a beef biryani spice mix with patanjali branding is circulating online with a false claim that the indian company known for promoting traditional values is manufacturing and selling the product the image includes the words beef biryani and patanjali logos leading to social media outrage and accusations of hypocrisy against the brand|[beef, biryani, spice, mix, patanjali, branding, circulating, indian, company, known, promoting, traditional, values, manufacturing, selling, product, includes, words, beef, biryani, patanjali, logos, leading, outrage, accusations, hypocrisy, brand]|1         |\n",
      "|tv actress in lebanon slaps a maulvi for making abusive comments towards her                                                                                                                                                                                                                                                                                   |[tv, actress, lebanon, slaps, maulvi, making, abusive, comments, towards]                                                                                                                                                                                |1         |\n",
      "|a video showing palestines foreign minister addressing the media falsely claims the international court of justice has declared israel an illegal state                                                                                                                                                                                                        |[palestines, foreign, minister, addressing, falsely, claims, international, court, justice, declared, israel, illegal, state]                                                                                                                            |1         |\n",
      "|a video of a bike rally is circulating on social media amid the  haryana assembly elections showing people holding islamic flags                                                                                                                                                                                                                               |[bike, rally, circulating, amid, , haryana, assembly, elections, people, holding, islamic, flags]                                                                                                                                                        |1         |\n",
      "|video shows pakistani tv anchors introducing rahul gandhi by joking about him                                                                                                                                                                                                                                                                                  |[pakistani, tv, anchors, introducing, rahul, gandhi, joking]                                                                                                                                                                                             |1         |\n",
      "+---------------------------------------------------------------------------------------------------------------------------------------------------------------------------------------------------------------------------------------------------------------------------------------------------------------------------------------------------------------+---------------------------------------------------------------------------------------------------------------------------------------------------------------------------------------------------------------------------------------------------------+----------+\n",
      "only showing top 5 rows\n",
      "\n",
      "+------------------------------------------------------------------------------------------------------------------------------------------------------------------------------------------------------------------------------------------------------------------------------------------------------------------------------------------------------------------+---------------------------------------------------------------------------------------------------------------------------------------------------------------------------------------------------------------------------------------------------------------------------------+----------+\n",
      "|claim                                                                                                                                                                                                                                                                                                                                                             |filtered_words                                                                                                                                                                                                                                                                   |prediction|\n",
      "+------------------------------------------------------------------------------------------------------------------------------------------------------------------------------------------------------------------------------------------------------------------------------------------------------------------------------------------------------------------+---------------------------------------------------------------------------------------------------------------------------------------------------------------------------------------------------------------------------------------------------------------------------------+----------+\n",
      "|an old video featuring allu arjun at a new york event is being shared with a false claim that it shows the telugu actor endorsing the congress party during the current lok sabha elections                                                                                                                                                                       |[old, featuring, allu, arjun, new, york, event, telugu, actor, endorsing, congress, party, current, lok, sabha, elections]                                                                                                                                                       |2         |\n",
      "|an old video of hoardings featuring congress leader priyanka gandhi vadra with an inverted tricolour is being shared with a false claim that it is part of the recent campaigning by the party for the ongoing lok sabha elections in bengaluru karnataka                                                                                                         |[old, hoardings, featuring, congress, leader, priyanka, gandhi, vadra, inverted, tricolour, part, recent, campaigning, party, ongoing, lok, sabha, elections, bengaluru, karnataka]                                                                                              |2         |\n",
      "|a video purportedly showing a news broadcast featuring an interview of cricketer virat kohli endorsing an online casino and promising its new users a guaranteed win of rs  within three days is a deepfake                                                                                                                                                       |[purportedly, news, broadcast, featuring, interview, cricketer, virat, kohli, endorsing, casino, promising, new, users, guaranteed, win, rs, , within, three, days, deepfake]                                                                                                    |2         |\n",
      "|an image purporting to show a cover of time magazine featuring a cartoon mocking rahul gandhi is viral online the cartoon shows gandhi breastfeeding a baby who has pak written on it while holding a bag that reads terrorist donations by congress a text on the image reads new york times magazine what foregin media institutions think about indian congress|[purporting, cover, time, magazine, featuring, cartoon, mocking, rahul, gandhi, cartoon, gandhi, breastfeeding, baby, pak, written, holding, bag, reads, terrorist, donations, congress, text, reads, new, york, times, magazine, foregin, institutions, think, indian, congress]|2         |\n",
      "+------------------------------------------------------------------------------------------------------------------------------------------------------------------------------------------------------------------------------------------------------------------------------------------------------------------------------------------------------------------+---------------------------------------------------------------------------------------------------------------------------------------------------------------------------------------------------------------------------------------------------------------------------------+----------+\n",
      "\n",
      "+-----------------------------------------------------------------------------------------------------------------------------------------------------------------------------------------------------------------------------------------------------------------------------------------------------------+-----------------------------------------------------------------------------------------------------------------------------------------------------------------------------------------------------------------------------------------------+----------+\n",
      "|claim                                                                                                                                                                                                                                                                                                      |filtered_words                                                                                                                                                                                                                                 |prediction|\n",
      "+-----------------------------------------------------------------------------------------------------------------------------------------------------------------------------------------------------------------------------------------------------------------------------------------------------------+-----------------------------------------------------------------------------------------------------------------------------------------------------------------------------------------------------------------------------------------------+----------+\n",
      "|a video of virat kohli strongly condemning an incident of mass molestation of young women on new years eve in bengaluru in  has been revived and is being peddled as the former indian mens cricket team captain speaking out strongly against the rape and murder of a junior doctor in kolkata this month|[virat, kohli, strongly, condemning, incident, mass, molestation, young, women, new, years, eve, bengaluru, , revived, peddled, former, indian, mens, cricket, team, captain, speaking, strongly, rape, murder, junior, doctor, kolkata, month]|3         |\n",
      "+-----------------------------------------------------------------------------------------------------------------------------------------------------------------------------------------------------------------------------------------------------------------------------------------------------------+-----------------------------------------------------------------------------------------------------------------------------------------------------------------------------------------------------------------------------------------------+----------+\n",
      "\n"
     ]
    }
   ],
   "source": [
    "# show claims in each cluster\n",
    "clustered_data.filter(clustered_data['prediction'] == 0).select(\"claim\", \"filtered_words\", \"prediction\").show(5, truncate=False)\n",
    "clustered_data.filter(clustered_data['prediction'] == 1).select(\"claim\", \"filtered_words\", \"prediction\").show(5, truncate=False)\n",
    "clustered_data.filter(clustered_data['prediction'] == 2).select(\"claim\", \"filtered_words\", \"prediction\").show(5, truncate=False)\n",
    "clustered_data.filter(clustered_data['prediction'] == 3).select(\"claim\", \"filtered_words\", \"prediction\").show(5, truncate=False)\n",
    "\n"
   ]
  },
  {
   "cell_type": "code",
   "execution_count": null,
   "metadata": {},
   "outputs": [],
   "source": [
    "# Apply LDA for topic modeling within each cluster\n",
    "lda = LDA(k=4, maxIter=5, featuresCol=\"pca_features\")\n",
    "lda_model = lda.fit(clustered_data)\n",
    "\n",
    "# Describe topics\n",
    "topics = lda_model.describeTopics(5)\n",
    "topics.show(truncate=False)"
   ]
  },
  {
   "cell_type": "markdown",
   "metadata": {},
   "source": [
    "LDA is taking too long to execute."
   ]
  },
  {
   "cell_type": "markdown",
   "metadata": {},
   "source": [
    "### Lets work on August Data"
   ]
  },
  {
   "cell_type": "code",
   "execution_count": 15,
   "metadata": {},
   "outputs": [
    {
     "name": "stdout",
     "output_type": "stream",
     "text": [
      "+----------+--------------------+--------------------+--------------------+------------------+-------------------+--------------------+--------------------+--------------------+--------------------+------------------+--------------------+----+-----+\n",
      "|  Category|                Link|             Heading|         Sub_heading|            Author|               Date|               Claim|          Fact_check|       Claim_summary|          Claimed_by|Fact_check_summary|               Links|Year|Month|\n",
      "+----------+--------------------+--------------------+--------------------+------------------+-------------------+--------------------+--------------------+--------------------+--------------------+------------------+--------------------+----+-----+\n",
      "|fact check|https://www.booml...|video of children...|boom found that t...|     Rohit Kumar ||2024-08-31 13:30:00|a viral video pur...|boom found that t...|a viral video pur...|  social media posts|             false|['https://x.com/B...|2024|    8|\n",
      "|  politics|https://www.booml...|old video from ke...|boom found that t...|  Anmol Alphonso ||2024-08-30 17:36:00|video shows rss m...|we found that the...|video shows rss m...|  social media posts|             false|['https://timesof...|2024|    8|\n",
      "|fact check|https://www.booml...|claim of nationwi...|the only pan-indi...|     Nidhi Jacob ||2024-08-30 15:27:00|a viral social me...|this is misleadin...|viral posts are c...|x posts, whatsapp...|        misleading|['https://t.co/rM...|2024|    8|\n",
      "|fact check|https://www.booml...|no, this is not r...|a representative ...|Archis Chowdhury ||2024-08-30 14:45:00|an image showing ...|                NULL|image shows rg ka...|x users, times no...|             false|['https://perma.c...|2024|    8|\n",
      "|fact check|https://www.booml...|haryana bjp posts...|boom found that c...|  Anmol Alphonso ||2024-08-28 16:19:00|video posted by b...|boom found that t...|video posted by b...|bjp haryana, soci...|             false|['https://www.ani...|2024|    8|\n",
      "+----------+--------------------+--------------------+--------------------+------------------+-------------------+--------------------+--------------------+--------------------+--------------------+------------------+--------------------+----+-----+\n",
      "only showing top 5 rows\n",
      "\n"
     ]
    }
   ],
   "source": [
    "# get the August data\n",
    "data_august = data_2024.filter(data['month'] == 8)\n",
    "data_august.show(5)"
   ]
  },
  {
   "cell_type": "code",
   "execution_count": 17,
   "metadata": {},
   "outputs": [
    {
     "name": "stdout",
     "output_type": "stream",
     "text": [
      "+------------------------------------------------------------------------------------------------------------------------------------------------------------------------------------------------------------------------------------------------------------------------------------------------------------------------------------------------+\n",
      "|Claim                                                                                                                                                                                                                                                                                                                                           |\n",
      "+------------------------------------------------------------------------------------------------------------------------------------------------------------------------------------------------------------------------------------------------------------------------------------------------------------------------------------------------+\n",
      "|a viral video purportedly shows three muslim children in india vandalising railway tracks, with the intent of causing harm.                                                                                                                                                                                                                     |\n",
      "|video shows rss march in haryana before 2024 assembly election                                                                                                                                                                                                                                                                                  |\n",
      "|a viral social media post and whatsapp forward falsely claim that police have launched a nationwide 'free travel scheme' for women between 10 pm and 6 am, citing helpline numbers 1091 and 7837018555.                                                                                                                                         |\n",
      "|an image showing an individual cutting a cake in the presence of former principal of rg kar medical college sandip ghosh is viral with the claim that it shows rape accused sanjoy roy cutting cake in ghosh's office, insinuating a connection between the two. the same was also reported as news by republic, times now bangla, and zee news.|\n",
      "|video posted by bjp haryana's official handle shows congress leader deepender hooda praising the bjp's 'nonstop haryana' campaign slogan, allegedly acknowledging the state's development under bjp rule.                                                                                                                                       |\n",
      "+------------------------------------------------------------------------------------------------------------------------------------------------------------------------------------------------------------------------------------------------------------------------------------------------------------------------------------------------+\n",
      "only showing top 5 rows\n",
      "\n"
     ]
    }
   ],
   "source": [
    "# Select the 'Claim' column and drop rows with NaN values\n",
    "claims_august = data_august.select(\"Claim\").na.drop()\n",
    "\n",
    "claims_august.show(5, truncate=False)"
   ]
  },
  {
   "cell_type": "code",
   "execution_count": 19,
   "metadata": {},
   "outputs": [
    {
     "name": "stdout",
     "output_type": "stream",
     "text": [
      "+------------------------------------------------------------------------------------------------------------------------------------------------------------------------------------------------------------------------------------------------------------------------------------------------------------------------------------------+-----------------------------------------------------------------------------------------------------------------------------------------------------------------------------------------------------------------------------------------------------+\n",
      "|Claim                                                                                                                                                                                                                                                                                                                                     |filtered_words                                                                                                                                                                                                                                       |\n",
      "+------------------------------------------------------------------------------------------------------------------------------------------------------------------------------------------------------------------------------------------------------------------------------------------------------------------------------------------+-----------------------------------------------------------------------------------------------------------------------------------------------------------------------------------------------------------------------------------------------------+\n",
      "|a viral video purportedly shows three muslim children in india vandalising railway tracks with the intent of causing harm                                                                                                                                                                                                                 |[purportedly, three, muslim, children, india, vandalising, railway, tracks, intent, causing, harm]                                                                                                                                                   |\n",
      "|video shows rss march in haryana before  assembly election                                                                                                                                                                                                                                                                                |[rss, march, haryana, , assembly, election]                                                                                                                                                                                                          |\n",
      "|a viral social media post and whatsapp forward falsely claim that police have launched a nationwide free travel scheme for women between  pm and  am citing helpline numbers  and                                                                                                                                                         |[post, whatsapp, forward, falsely, police, launched, nationwide, free, travel, scheme, women, , pm, , citing, helpline, numbers, ]                                                                                                                   |\n",
      "|an image showing an individual cutting a cake in the presence of former principal of rg kar medical college sandip ghosh is viral with the claim that it shows rape accused sanjoy roy cutting cake in ghoshs office insinuating a connection between the two the same was also reported as news by republic times now bangla and zee news|[individual, cutting, cake, presence, former, principal, rg, kar, medical, college, sandip, ghosh, rape, accused, sanjoy, roy, cutting, cake, ghoshs, office, insinuating, connection, two, also, reported, news, republic, times, bangla, zee, news]|\n",
      "|video posted by bjp haryanas official handle shows congress leader deepender hooda praising the bjps nonstop haryana campaign slogan allegedly acknowledging the states development under bjp rule                                                                                                                                        |[posted, bjp, haryanas, official, handle, congress, leader, deepender, hooda, praising, bjps, nonstop, haryana, campaign, slogan, allegedly, acknowledging, states, development, bjp, rule]                                                          |\n",
      "|a second graphic video allegedly showing dead children in a house is being circulated with claims that hindus in bangladesh are being attacked and killed in their own homes                                                                                                                                                              |[second, graphic, allegedly, dead, children, house, circulated, claims, hindus, bangladesh, attacked, killed, homes]                                                                                                                                 |\n",
      "|video shows badlapur sexual assault accused ashraf hussain being beaten                                                                                                                                                                                                                                                                   |[badlapur, sexual, assault, accused, ashraf, hussain, beaten]                                                                                                                                                                                        |\n",
      "|a viral whatsapp forward claims that all indian citizens must acquire an income tax clearance certificate itcc before travelling overseas starting october                                                                                                                                                                                |[whatsapp, forward, claims, indian, citizens, must, acquire, income, tax, clearance, certificate, itcc, travelling, overseas, starting, october]                                                                                                     |\n",
      "|a social media post claiming that the washington post published an article about the usbased sikh separatist leader gurpatwant singh pannun staging an attack on himself is fake                                                                                                                                                          |[post, claiming, washington, post, published, article, usbased, sikh, separatist, leader, gurpatwant, singh, pannun, staging, attack, fake]                                                                                                          |\n",
      "|a video of virat kohli strongly condemning an incident of mass molestation of young women on new years eve in bengaluru in  has been revived and is being peddled as the former indian mens cricket team captain speaking out strongly against the rape and murder of a junior doctor in kolkata this month                               |[virat, kohli, strongly, condemning, incident, mass, molestation, young, women, new, years, eve, bengaluru, , revived, peddled, former, indian, mens, cricket, team, captain, speaking, strongly, rape, murder, junior, doctor, kolkata, month]      |\n",
      "+------------------------------------------------------------------------------------------------------------------------------------------------------------------------------------------------------------------------------------------------------------------------------------------------------------------------------------------+-----------------------------------------------------------------------------------------------------------------------------------------------------------------------------------------------------------------------------------------------------+\n",
      "only showing top 10 rows\n",
      "\n"
     ]
    }
   ],
   "source": [
    "# Convert text to lowercase and remove punctuation\n",
    "claims_august = claims_august.withColumn(\"Claim\", lower(regexp_replace(col(\"Claim\"), \"[^a-zA-Z\\\\s]\", \"\")))\n",
    "\n",
    "# Tokenize the claims column\n",
    "claims_tokenized_august = tokenizer.transform(claims_august)\n",
    "\n",
    "# Remove stopwords\n",
    "claims_filtered_august = remover.transform(claims_tokenized_august)\n",
    "\n",
    "# show sample output\n",
    "claims_filtered_august.select(\"Claim\", \"filtered_words\").show(10, truncate=False)"
   ]
  },
  {
   "cell_type": "code",
   "execution_count": 20,
   "metadata": {},
   "outputs": [],
   "source": [
    "# vectorize words\n",
    "claims_vectorized_august = vectorizer.fit(claims_filtered_august).transform(claims_filtered_august)\n",
    "\n",
    "# Compute TF-IDF\n",
    "claims_idf_august = idf.fit(claims_vectorized_august).transform(claims_vectorized_august)"
   ]
  },
  {
   "cell_type": "code",
   "execution_count": 24,
   "metadata": {},
   "outputs": [],
   "source": [
    "# Apply PCA to reduce dimensionality with number of components = 34 \n",
    "pca = PCA(k=34, inputCol=\"features\", outputCol=\"pca_features\")\n",
    "claims_pca_august = pca.fit(claims_idf_august).transform(claims_idf_august)\n",
    "\n",
    "# Apply K-means clustering\n",
    "kmeans = KMeans(featuresCol=\"pca_features\", k=4, seed=42)\n",
    "model_august = kmeans.fit(claims_pca_august)\n",
    "\n",
    "# Transform data with clustering\n",
    "clustered_data_august = model_august.transform(claims_pca_august)"
   ]
  },
  {
   "cell_type": "code",
   "execution_count": 25,
   "metadata": {},
   "outputs": [
    {
     "name": "stdout",
     "output_type": "stream",
     "text": [
      "+--------------------+----------+\n",
      "|               claim|prediction|\n",
      "+--------------------+----------+\n",
      "|a viral video pur...|         0|\n",
      "|video shows rss m...|         0|\n",
      "|a viral social me...|         0|\n",
      "|an image showing ...|         2|\n",
      "|video posted by b...|         0|\n",
      "|a second graphic ...|         0|\n",
      "|video shows badla...|         0|\n",
      "|a viral whatsapp ...|         0|\n",
      "|a social media po...|         0|\n",
      "|a video of virat ...|         0|\n",
      "+--------------------+----------+\n",
      "only showing top 10 rows\n",
      "\n"
     ]
    }
   ],
   "source": [
    "# Show clustering results\n",
    "clustered_data_august.select(\"claim\", \"prediction\").show(10)"
   ]
  },
  {
   "cell_type": "code",
   "execution_count": 26,
   "metadata": {},
   "outputs": [
    {
     "name": "stdout",
     "output_type": "stream",
     "text": [
      "+----------+-----+\n",
      "|prediction|count|\n",
      "+----------+-----+\n",
      "|         1|    1|\n",
      "|         3|    1|\n",
      "|         2|    1|\n",
      "|         0|   36|\n",
      "+----------+-----+\n",
      "\n"
     ]
    }
   ],
   "source": [
    "# Show the number of claims in each cluster\n",
    "clustered_data_august.groupBy(\"prediction\").count().show()"
   ]
  },
  {
   "cell_type": "code",
   "execution_count": 27,
   "metadata": {},
   "outputs": [
    {
     "name": "stdout",
     "output_type": "stream",
     "text": [
      "+--------------------+----------+\n",
      "|               claim|prediction|\n",
      "+--------------------+----------+\n",
      "|a viral video pur...|         0|\n",
      "|video shows rss m...|         0|\n",
      "|a viral social me...|         0|\n",
      "|an image showing ...|         0|\n",
      "|video posted by b...|         0|\n",
      "|a second graphic ...|         0|\n",
      "|video shows badla...|         0|\n",
      "|a viral whatsapp ...|         0|\n",
      "|a social media po...|         0|\n",
      "|a video of virat ...|         0|\n",
      "+--------------------+----------+\n",
      "only showing top 10 rows\n",
      "\n",
      "+----------+-----+\n",
      "|prediction|count|\n",
      "+----------+-----+\n",
      "|         1|    1|\n",
      "|         0|   38|\n",
      "+----------+-----+\n",
      "\n"
     ]
    }
   ],
   "source": [
    "# Apply k means clustering with k = 2\n",
    "kmeans = KMeans(featuresCol=\"pca_features\", k=2, seed=42)\n",
    "model_august = kmeans.fit(claims_pca_august)\n",
    "\n",
    "# Transform data with clustering\n",
    "clustered_data_august = model_august.transform(claims_pca_august)\n",
    "\n",
    "# Show clustering results\n",
    "clustered_data_august.select(\"claim\", \"prediction\").show(10)\n",
    "\n",
    "# Show the number of claims in each cluster\n",
    "clustered_data_august.groupBy(\"prediction\").count().show()"
   ]
  },
  {
   "cell_type": "code",
   "execution_count": 28,
   "metadata": {},
   "outputs": [
    {
     "name": "stdout",
     "output_type": "stream",
     "text": [
      "+--------------------+--------------------+--------------------+--------------------+--------------------+--------------------+----------+\n",
      "|               Claim|               words|      filtered_words|        raw_features|            features|        pca_features|prediction|\n",
      "+--------------------+--------------------+--------------------+--------------------+--------------------+--------------------+----------+\n",
      "|a viral video pur...|[a, viral, video,...|[purportedly, thr...|(403,[16,50,66,72...|(403,[16,50,66,72...|[-0.0915128380287...|         0|\n",
      "|video shows rss m...|[video, shows, rs...|[rss, march, hary...|(403,[2,64,65,247...|(403,[2,64,65,247...|[-0.0052844992797...|         0|\n",
      "|a viral social me...|[a, viral, social...|[post, whatsapp, ...|(403,[2,5,11,17,1...|(403,[2,5,11,17,1...|[0.38473107388179...|         0|\n",
      "|an image showing ...|[an, image, showi...|[individual, cutt...|(403,[3,6,8,9,12,...|(403,[3,6,8,9,12,...|[8.83166495984445...|         0|\n",
      "|video posted by b...|[video, posted, b...|[posted, bjp, har...|(403,[54,65,68,87...|(403,[54,65,68,87...|[-0.3663799446489...|         0|\n",
      "+--------------------+--------------------+--------------------+--------------------+--------------------+--------------------+----------+\n",
      "only showing top 5 rows\n",
      "\n"
     ]
    }
   ],
   "source": [
    "clustered_data_august.show(5)"
   ]
  },
  {
   "cell_type": "code",
   "execution_count": null,
   "metadata": {},
   "outputs": [],
   "source": []
  }
 ],
 "metadata": {
  "kernelspec": {
   "display_name": "Python 3",
   "language": "python",
   "name": "python3"
  },
  "language_info": {
   "codemirror_mode": {
    "name": "ipython",
    "version": 3
   },
   "file_extension": ".py",
   "mimetype": "text/x-python",
   "name": "python",
   "nbconvert_exporter": "python",
   "pygments_lexer": "ipython3",
   "version": "3.11.9"
  }
 },
 "nbformat": 4,
 "nbformat_minor": 2
}
